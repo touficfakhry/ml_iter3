{
 "cells": [
  {
   "cell_type": "code",
   "execution_count": 23,
   "metadata": {},
   "outputs": [],
   "source": [
    "import pandas as pd\n",
    "from sklearn.model_selection import train_test_split, cross_val_score\n",
    "from sklearn.ensemble import RandomForestClassifier\n",
    "from sklearn.metrics import classification_report, accuracy_score\n",
    "from sklearn.preprocessing import StandardScaler\n",
    "from sklearn.linear_model import LogisticRegression\n",
    "from sklearn.svm import SVC\n",
    "import joblib"
   ]
  },
  {
   "cell_type": "code",
   "execution_count": 2,
   "metadata": {},
   "outputs": [],
   "source": [
    "df = pd.read_csv('meta-classifier-dataset.csv')"
   ]
  },
  {
   "cell_type": "code",
   "execution_count": 3,
   "metadata": {},
   "outputs": [
    {
     "data": {
      "text/html": [
       "<div>\n",
       "<style scoped>\n",
       "    .dataframe tbody tr th:only-of-type {\n",
       "        vertical-align: middle;\n",
       "    }\n",
       "\n",
       "    .dataframe tbody tr th {\n",
       "        vertical-align: top;\n",
       "    }\n",
       "\n",
       "    .dataframe thead th {\n",
       "        text-align: right;\n",
       "    }\n",
       "</style>\n",
       "<table border=\"1\" class=\"dataframe\">\n",
       "  <thead>\n",
       "    <tr style=\"text-align: right;\">\n",
       "      <th></th>\n",
       "      <th>email_text_predictions</th>\n",
       "      <th>url_predictions</th>\n",
       "      <th>num_urls</th>\n",
       "      <th>email_length</th>\n",
       "      <th>label</th>\n",
       "    </tr>\n",
       "  </thead>\n",
       "  <tbody>\n",
       "    <tr>\n",
       "      <th>0</th>\n",
       "      <td>0</td>\n",
       "      <td>0</td>\n",
       "      <td>0</td>\n",
       "      <td>1030</td>\n",
       "      <td>0</td>\n",
       "    </tr>\n",
       "    <tr>\n",
       "      <th>1</th>\n",
       "      <td>0</td>\n",
       "      <td>0</td>\n",
       "      <td>0</td>\n",
       "      <td>479</td>\n",
       "      <td>0</td>\n",
       "    </tr>\n",
       "    <tr>\n",
       "      <th>2</th>\n",
       "      <td>0</td>\n",
       "      <td>0</td>\n",
       "      <td>0</td>\n",
       "      <td>1245</td>\n",
       "      <td>0</td>\n",
       "    </tr>\n",
       "    <tr>\n",
       "      <th>3</th>\n",
       "      <td>1</td>\n",
       "      <td>0</td>\n",
       "      <td>1</td>\n",
       "      <td>688</td>\n",
       "      <td>1</td>\n",
       "    </tr>\n",
       "    <tr>\n",
       "      <th>4</th>\n",
       "      <td>1</td>\n",
       "      <td>0</td>\n",
       "      <td>0</td>\n",
       "      <td>441</td>\n",
       "      <td>1</td>\n",
       "    </tr>\n",
       "  </tbody>\n",
       "</table>\n",
       "</div>"
      ],
      "text/plain": [
       "   email_text_predictions  url_predictions  num_urls  email_length  label\n",
       "0                       0                0         0          1030      0\n",
       "1                       0                0         0           479      0\n",
       "2                       0                0         0          1245      0\n",
       "3                       1                0         1           688      1\n",
       "4                       1                0         0           441      1"
      ]
     },
     "execution_count": 3,
     "metadata": {},
     "output_type": "execute_result"
    }
   ],
   "source": [
    "df.head()"
   ]
  },
  {
   "cell_type": "code",
   "execution_count": 11,
   "metadata": {},
   "outputs": [],
   "source": [
    "features = df[['email_text_predictions', 'url_predictions', 'num_urls', 'email_length']]\n",
    "target = df['label']"
   ]
  },
  {
   "cell_type": "code",
   "execution_count": 14,
   "metadata": {},
   "outputs": [
    {
     "name": "stderr",
     "output_type": "stream",
     "text": [
      "C:\\Users\\toufic.f\\AppData\\Local\\Temp\\ipykernel_8460\\1265806905.py:4: SettingWithCopyWarning: \n",
      "A value is trying to be set on a copy of a slice from a DataFrame.\n",
      "Try using .loc[row_indexer,col_indexer] = value instead\n",
      "\n",
      "See the caveats in the documentation: https://pandas.pydata.org/pandas-docs/stable/user_guide/indexing.html#returning-a-view-versus-a-copy\n",
      "  features['email_length'] = scaler.fit_transform(features[['email_length']])\n",
      "C:\\Users\\toufic.f\\AppData\\Local\\Temp\\ipykernel_8460\\1265806905.py:5: SettingWithCopyWarning: \n",
      "A value is trying to be set on a copy of a slice from a DataFrame.\n",
      "Try using .loc[row_indexer,col_indexer] = value instead\n",
      "\n",
      "See the caveats in the documentation: https://pandas.pydata.org/pandas-docs/stable/user_guide/indexing.html#returning-a-view-versus-a-copy\n",
      "  features['num_urls'] = scaler.fit_transform(features[['num_urls']])\n"
     ]
    }
   ],
   "source": [
    "scaler = StandardScaler()\n",
    "\n",
    "# Normalize the 'text_length' feature\n",
    "features['email_length'] = scaler.fit_transform(features[['email_length']])\n",
    "features['num_urls'] = scaler.fit_transform(features[['num_urls']])"
   ]
  },
  {
   "cell_type": "code",
   "execution_count": 15,
   "metadata": {},
   "outputs": [],
   "source": [
    "X_train, X_test, y_train, y_test = train_test_split(features, target, test_size=0.2, random_state=42)"
   ]
  },
  {
   "cell_type": "code",
   "execution_count": 16,
   "metadata": {},
   "outputs": [],
   "source": [
    "meta_classifier = RandomForestClassifier(n_estimators=100, random_state=42)"
   ]
  },
  {
   "cell_type": "code",
   "execution_count": 17,
   "metadata": {},
   "outputs": [
    {
     "data": {
      "text/html": [
       "<style>#sk-container-id-2 {color: black;}#sk-container-id-2 pre{padding: 0;}#sk-container-id-2 div.sk-toggleable {background-color: white;}#sk-container-id-2 label.sk-toggleable__label {cursor: pointer;display: block;width: 100%;margin-bottom: 0;padding: 0.3em;box-sizing: border-box;text-align: center;}#sk-container-id-2 label.sk-toggleable__label-arrow:before {content: \"▸\";float: left;margin-right: 0.25em;color: #696969;}#sk-container-id-2 label.sk-toggleable__label-arrow:hover:before {color: black;}#sk-container-id-2 div.sk-estimator:hover label.sk-toggleable__label-arrow:before {color: black;}#sk-container-id-2 div.sk-toggleable__content {max-height: 0;max-width: 0;overflow: hidden;text-align: left;background-color: #f0f8ff;}#sk-container-id-2 div.sk-toggleable__content pre {margin: 0.2em;color: black;border-radius: 0.25em;background-color: #f0f8ff;}#sk-container-id-2 input.sk-toggleable__control:checked~div.sk-toggleable__content {max-height: 200px;max-width: 100%;overflow: auto;}#sk-container-id-2 input.sk-toggleable__control:checked~label.sk-toggleable__label-arrow:before {content: \"▾\";}#sk-container-id-2 div.sk-estimator input.sk-toggleable__control:checked~label.sk-toggleable__label {background-color: #d4ebff;}#sk-container-id-2 div.sk-label input.sk-toggleable__control:checked~label.sk-toggleable__label {background-color: #d4ebff;}#sk-container-id-2 input.sk-hidden--visually {border: 0;clip: rect(1px 1px 1px 1px);clip: rect(1px, 1px, 1px, 1px);height: 1px;margin: -1px;overflow: hidden;padding: 0;position: absolute;width: 1px;}#sk-container-id-2 div.sk-estimator {font-family: monospace;background-color: #f0f8ff;border: 1px dotted black;border-radius: 0.25em;box-sizing: border-box;margin-bottom: 0.5em;}#sk-container-id-2 div.sk-estimator:hover {background-color: #d4ebff;}#sk-container-id-2 div.sk-parallel-item::after {content: \"\";width: 100%;border-bottom: 1px solid gray;flex-grow: 1;}#sk-container-id-2 div.sk-label:hover label.sk-toggleable__label {background-color: #d4ebff;}#sk-container-id-2 div.sk-serial::before {content: \"\";position: absolute;border-left: 1px solid gray;box-sizing: border-box;top: 0;bottom: 0;left: 50%;z-index: 0;}#sk-container-id-2 div.sk-serial {display: flex;flex-direction: column;align-items: center;background-color: white;padding-right: 0.2em;padding-left: 0.2em;position: relative;}#sk-container-id-2 div.sk-item {position: relative;z-index: 1;}#sk-container-id-2 div.sk-parallel {display: flex;align-items: stretch;justify-content: center;background-color: white;position: relative;}#sk-container-id-2 div.sk-item::before, #sk-container-id-2 div.sk-parallel-item::before {content: \"\";position: absolute;border-left: 1px solid gray;box-sizing: border-box;top: 0;bottom: 0;left: 50%;z-index: -1;}#sk-container-id-2 div.sk-parallel-item {display: flex;flex-direction: column;z-index: 1;position: relative;background-color: white;}#sk-container-id-2 div.sk-parallel-item:first-child::after {align-self: flex-end;width: 50%;}#sk-container-id-2 div.sk-parallel-item:last-child::after {align-self: flex-start;width: 50%;}#sk-container-id-2 div.sk-parallel-item:only-child::after {width: 0;}#sk-container-id-2 div.sk-dashed-wrapped {border: 1px dashed gray;margin: 0 0.4em 0.5em 0.4em;box-sizing: border-box;padding-bottom: 0.4em;background-color: white;}#sk-container-id-2 div.sk-label label {font-family: monospace;font-weight: bold;display: inline-block;line-height: 1.2em;}#sk-container-id-2 div.sk-label-container {text-align: center;}#sk-container-id-2 div.sk-container {/* jupyter's `normalize.less` sets `[hidden] { display: none; }` but bootstrap.min.css set `[hidden] { display: none !important; }` so we also need the `!important` here to be able to override the default hidden behavior on the sphinx rendered scikit-learn.org. See: https://github.com/scikit-learn/scikit-learn/issues/21755 */display: inline-block !important;position: relative;}#sk-container-id-2 div.sk-text-repr-fallback {display: none;}</style><div id=\"sk-container-id-2\" class=\"sk-top-container\"><div class=\"sk-text-repr-fallback\"><pre>RandomForestClassifier(random_state=42)</pre><b>In a Jupyter environment, please rerun this cell to show the HTML representation or trust the notebook. <br />On GitHub, the HTML representation is unable to render, please try loading this page with nbviewer.org.</b></div><div class=\"sk-container\" hidden><div class=\"sk-item\"><div class=\"sk-estimator sk-toggleable\"><input class=\"sk-toggleable__control sk-hidden--visually\" id=\"sk-estimator-id-2\" type=\"checkbox\" checked><label for=\"sk-estimator-id-2\" class=\"sk-toggleable__label sk-toggleable__label-arrow\">RandomForestClassifier</label><div class=\"sk-toggleable__content\"><pre>RandomForestClassifier(random_state=42)</pre></div></div></div></div></div>"
      ],
      "text/plain": [
       "RandomForestClassifier(random_state=42)"
      ]
     },
     "execution_count": 17,
     "metadata": {},
     "output_type": "execute_result"
    }
   ],
   "source": [
    "meta_classifier.fit(X_train, y_train)"
   ]
  },
  {
   "cell_type": "code",
   "execution_count": 18,
   "metadata": {},
   "outputs": [],
   "source": [
    "y_pred = meta_classifier.predict(X_test)"
   ]
  },
  {
   "cell_type": "code",
   "execution_count": 19,
   "metadata": {},
   "outputs": [
    {
     "name": "stdout",
     "output_type": "stream",
     "text": [
      "Accuracy: 0.8135229407029783\n",
      "Classification Report:\n",
      "               precision    recall  f1-score   support\n",
      "\n",
      "           0       0.84      0.84      0.84      2209\n",
      "           1       0.77      0.77      0.77      1518\n",
      "\n",
      "    accuracy                           0.81      3727\n",
      "   macro avg       0.81      0.81      0.81      3727\n",
      "weighted avg       0.81      0.81      0.81      3727\n",
      "\n"
     ]
    }
   ],
   "source": [
    "# Evaluate the meta-classifier\n",
    "print(\"Accuracy:\", accuracy_score(y_test, y_pred))\n",
    "print(\"Classification Report:\\n\", classification_report(y_test, y_pred))"
   ]
  },
  {
   "cell_type": "code",
   "execution_count": 22,
   "metadata": {},
   "outputs": [],
   "source": [
    "models = {\n",
    "    'Random Forest': RandomForestClassifier(),\n",
    "    'Logistic Regression': LogisticRegression(),\n",
    "    'SVM': SVC()\n",
    "}"
   ]
  },
  {
   "cell_type": "code",
   "execution_count": 24,
   "metadata": {},
   "outputs": [
    {
     "name": "stdout",
     "output_type": "stream",
     "text": [
      "Random Forest Accuracy: 0.8154 (+/- 0.0101)\n",
      "Logistic Regression Accuracy: 0.8495 (+/- 0.0125)\n",
      "SVM Accuracy: 0.8496 (+/- 0.0124)\n"
     ]
    }
   ],
   "source": [
    "# Evaluate models using cross-validation\n",
    "for name, model in models.items():\n",
    "    scores = cross_val_score(model, features, target, cv=5, scoring='accuracy')\n",
    "    print(f'{name} Accuracy: {scores.mean():.4f} (+/- {scores.std() * 2:.4f})')"
   ]
  },
  {
   "cell_type": "code",
   "execution_count": 25,
   "metadata": {},
   "outputs": [
    {
     "name": "stdout",
     "output_type": "stream",
     "text": [
      "Accuracy: 0.8494767909847062\n",
      "Classification Report:\n",
      "               precision    recall  f1-score   support\n",
      "\n",
      "           0       0.86      0.90      0.88      2209\n",
      "           1       0.84      0.78      0.81      1518\n",
      "\n",
      "    accuracy                           0.85      3727\n",
      "   macro avg       0.85      0.84      0.84      3727\n",
      "weighted avg       0.85      0.85      0.85      3727\n",
      "\n"
     ]
    }
   ],
   "source": [
    "logistic_regression_model = LogisticRegression(max_iter=1000)\n",
    "logistic_regression_model.fit(X_train, y_train)\n",
    "\n",
    "# Make predictions on the test set\n",
    "y_pred = logistic_regression_model.predict(X_test)\n",
    "\n",
    "# Evaluate the model\n",
    "print(\"Accuracy:\", accuracy_score(y_test, y_pred))\n",
    "print(\"Classification Report:\\n\", classification_report(y_test, y_pred))"
   ]
  },
  {
   "cell_type": "code",
   "execution_count": 26,
   "metadata": {},
   "outputs": [
    {
     "data": {
      "text/plain": [
       "['../models/best_meta_classifier_model.pkl']"
      ]
     },
     "execution_count": 26,
     "metadata": {},
     "output_type": "execute_result"
    }
   ],
   "source": [
    "joblib.dump(logistic_regression_model, '../models/best_meta_classifier_model.pkl')"
   ]
  },
  {
   "cell_type": "code",
   "execution_count": 27,
   "metadata": {},
   "outputs": [
    {
     "name": "stdout",
     "output_type": "stream",
     "text": [
      "WARNING:tensorflow:From c:\\Users\\toufic.f\\AppData\\Local\\Programs\\Python\\Python39\\lib\\site-packages\\keras\\src\\losses.py:2976: The name tf.losses.sparse_softmax_cross_entropy is deprecated. Please use tf.compat.v1.losses.sparse_softmax_cross_entropy instead.\n",
      "\n"
     ]
    }
   ],
   "source": [
    "import tensorflow as tf\n",
    "from tensorflow.keras.models import Sequential\n",
    "from tensorflow.keras.layers import Dense\n",
    "from tensorflow.keras.optimizers import Adam"
   ]
  },
  {
   "cell_type": "code",
   "execution_count": 28,
   "metadata": {},
   "outputs": [
    {
     "name": "stdout",
     "output_type": "stream",
     "text": [
      "WARNING:tensorflow:From c:\\Users\\toufic.f\\AppData\\Local\\Programs\\Python\\Python39\\lib\\site-packages\\keras\\src\\backend.py:873: The name tf.get_default_graph is deprecated. Please use tf.compat.v1.get_default_graph instead.\n",
      "\n"
     ]
    }
   ],
   "source": [
    "model = Sequential([\n",
    "    Dense(64, input_dim=X_train.shape[1], activation='relu'),\n",
    "    Dense(32, activation='relu'),\n",
    "    Dense(1, activation='sigmoid')\n",
    "])"
   ]
  },
  {
   "cell_type": "code",
   "execution_count": 29,
   "metadata": {},
   "outputs": [],
   "source": [
    "model.compile(optimizer=Adam(learning_rate=0.001), loss='binary_crossentropy', metrics=['accuracy'])"
   ]
  },
  {
   "cell_type": "code",
   "execution_count": 30,
   "metadata": {},
   "outputs": [
    {
     "name": "stdout",
     "output_type": "stream",
     "text": [
      "Epoch 1/50\n",
      "WARNING:tensorflow:From c:\\Users\\toufic.f\\AppData\\Local\\Programs\\Python\\Python39\\lib\\site-packages\\keras\\src\\utils\\tf_utils.py:492: The name tf.ragged.RaggedTensorValue is deprecated. Please use tf.compat.v1.ragged.RaggedTensorValue instead.\n",
      "\n",
      "WARNING:tensorflow:From c:\\Users\\toufic.f\\AppData\\Local\\Programs\\Python\\Python39\\lib\\site-packages\\keras\\src\\engine\\base_layer_utils.py:384: The name tf.executing_eagerly_outside_functions is deprecated. Please use tf.compat.v1.executing_eagerly_outside_functions instead.\n",
      "\n",
      "373/373 [==============================] - 4s 4ms/step - loss: 0.4609 - accuracy: 0.8423 - val_loss: 0.4133 - val_accuracy: 0.8541\n",
      "Epoch 2/50\n",
      "373/373 [==============================] - 1s 3ms/step - loss: 0.4234 - accuracy: 0.8485 - val_loss: 0.4119 - val_accuracy: 0.8541\n",
      "Epoch 3/50\n",
      "373/373 [==============================] - 2s 4ms/step - loss: 0.4229 - accuracy: 0.8485 - val_loss: 0.4118 - val_accuracy: 0.8541\n",
      "Epoch 4/50\n",
      "373/373 [==============================] - 2s 4ms/step - loss: 0.4221 - accuracy: 0.8485 - val_loss: 0.4119 - val_accuracy: 0.8541\n",
      "Epoch 5/50\n",
      "373/373 [==============================] - 2s 4ms/step - loss: 0.4205 - accuracy: 0.8486 - val_loss: 0.4147 - val_accuracy: 0.8541\n",
      "Epoch 6/50\n",
      "373/373 [==============================] - 2s 4ms/step - loss: 0.4211 - accuracy: 0.8485 - val_loss: 0.4103 - val_accuracy: 0.8541\n",
      "Epoch 7/50\n",
      "373/373 [==============================] - 2s 4ms/step - loss: 0.4200 - accuracy: 0.8485 - val_loss: 0.4094 - val_accuracy: 0.8541\n",
      "Epoch 8/50\n",
      "373/373 [==============================] - 1s 4ms/step - loss: 0.4190 - accuracy: 0.8485 - val_loss: 0.4118 - val_accuracy: 0.8538\n",
      "Epoch 9/50\n",
      "373/373 [==============================] - 2s 4ms/step - loss: 0.4186 - accuracy: 0.8486 - val_loss: 0.4076 - val_accuracy: 0.8538\n",
      "Epoch 10/50\n",
      "373/373 [==============================] - 2s 4ms/step - loss: 0.4173 - accuracy: 0.8485 - val_loss: 0.4074 - val_accuracy: 0.8538\n",
      "Epoch 11/50\n",
      "373/373 [==============================] - 2s 4ms/step - loss: 0.4167 - accuracy: 0.8485 - val_loss: 0.4062 - val_accuracy: 0.8538\n",
      "Epoch 12/50\n",
      "373/373 [==============================] - 2s 4ms/step - loss: 0.4167 - accuracy: 0.8484 - val_loss: 0.4053 - val_accuracy: 0.8541\n",
      "Epoch 13/50\n",
      "373/373 [==============================] - 1s 4ms/step - loss: 0.4154 - accuracy: 0.8485 - val_loss: 0.4088 - val_accuracy: 0.8538\n",
      "Epoch 14/50\n",
      "373/373 [==============================] - 2s 5ms/step - loss: 0.4151 - accuracy: 0.8485 - val_loss: 0.4047 - val_accuracy: 0.8538\n",
      "Epoch 15/50\n",
      "373/373 [==============================] - 2s 6ms/step - loss: 0.4148 - accuracy: 0.8484 - val_loss: 0.4080 - val_accuracy: 0.8538\n",
      "Epoch 16/50\n",
      "373/373 [==============================] - 2s 4ms/step - loss: 0.4147 - accuracy: 0.8486 - val_loss: 0.4060 - val_accuracy: 0.8538\n",
      "Epoch 17/50\n",
      "373/373 [==============================] - 1s 4ms/step - loss: 0.4144 - accuracy: 0.8485 - val_loss: 0.4066 - val_accuracy: 0.8538\n",
      "Epoch 18/50\n",
      "373/373 [==============================] - 2s 4ms/step - loss: 0.4137 - accuracy: 0.8486 - val_loss: 0.4055 - val_accuracy: 0.8538\n",
      "Epoch 19/50\n",
      "373/373 [==============================] - 1s 4ms/step - loss: 0.4132 - accuracy: 0.8486 - val_loss: 0.4054 - val_accuracy: 0.8538\n",
      "Epoch 20/50\n",
      "373/373 [==============================] - 1s 4ms/step - loss: 0.4127 - accuracy: 0.8485 - val_loss: 0.4059 - val_accuracy: 0.8538\n",
      "Epoch 21/50\n",
      "373/373 [==============================] - 1s 3ms/step - loss: 0.4127 - accuracy: 0.8486 - val_loss: 0.4046 - val_accuracy: 0.8538\n",
      "Epoch 22/50\n",
      "373/373 [==============================] - 1s 3ms/step - loss: 0.4119 - accuracy: 0.8485 - val_loss: 0.4060 - val_accuracy: 0.8538\n",
      "Epoch 23/50\n",
      "373/373 [==============================] - 1s 3ms/step - loss: 0.4121 - accuracy: 0.8483 - val_loss: 0.4053 - val_accuracy: 0.8538\n",
      "Epoch 24/50\n",
      "373/373 [==============================] - 1s 4ms/step - loss: 0.4116 - accuracy: 0.8484 - val_loss: 0.4040 - val_accuracy: 0.8538\n",
      "Epoch 25/50\n",
      "373/373 [==============================] - 1s 3ms/step - loss: 0.4112 - accuracy: 0.8485 - val_loss: 0.4045 - val_accuracy: 0.8538\n",
      "Epoch 26/50\n",
      "373/373 [==============================] - 1s 3ms/step - loss: 0.4117 - accuracy: 0.8486 - val_loss: 0.4042 - val_accuracy: 0.8538\n",
      "Epoch 27/50\n",
      "373/373 [==============================] - 1s 3ms/step - loss: 0.4106 - accuracy: 0.8486 - val_loss: 0.4058 - val_accuracy: 0.8538\n",
      "Epoch 28/50\n",
      "373/373 [==============================] - 1s 3ms/step - loss: 0.4105 - accuracy: 0.8486 - val_loss: 0.4065 - val_accuracy: 0.8531\n",
      "Epoch 29/50\n",
      "373/373 [==============================] - 1s 3ms/step - loss: 0.4103 - accuracy: 0.8484 - val_loss: 0.4043 - val_accuracy: 0.8535\n",
      "Epoch 30/50\n",
      "373/373 [==============================] - 1s 4ms/step - loss: 0.4106 - accuracy: 0.8486 - val_loss: 0.4053 - val_accuracy: 0.8538\n",
      "Epoch 31/50\n",
      "373/373 [==============================] - 1s 3ms/step - loss: 0.4104 - accuracy: 0.8484 - val_loss: 0.4044 - val_accuracy: 0.8541\n",
      "Epoch 32/50\n",
      "373/373 [==============================] - 1s 3ms/step - loss: 0.4093 - accuracy: 0.8484 - val_loss: 0.4091 - val_accuracy: 0.8531\n",
      "Epoch 33/50\n",
      "373/373 [==============================] - 2s 4ms/step - loss: 0.4097 - accuracy: 0.8483 - val_loss: 0.4037 - val_accuracy: 0.8541\n",
      "Epoch 34/50\n",
      "373/373 [==============================] - 1s 3ms/step - loss: 0.4096 - accuracy: 0.8484 - val_loss: 0.4026 - val_accuracy: 0.8541\n",
      "Epoch 35/50\n",
      "373/373 [==============================] - 1s 3ms/step - loss: 0.4089 - accuracy: 0.8487 - val_loss: 0.4049 - val_accuracy: 0.8538\n",
      "Epoch 36/50\n",
      "373/373 [==============================] - 1s 3ms/step - loss: 0.4084 - accuracy: 0.8486 - val_loss: 0.4060 - val_accuracy: 0.8538\n",
      "Epoch 37/50\n",
      "373/373 [==============================] - 1s 3ms/step - loss: 0.4092 - accuracy: 0.8487 - val_loss: 0.4041 - val_accuracy: 0.8535\n",
      "Epoch 38/50\n",
      "373/373 [==============================] - 1s 3ms/step - loss: 0.4084 - accuracy: 0.8488 - val_loss: 0.4057 - val_accuracy: 0.8528\n",
      "Epoch 39/50\n",
      "373/373 [==============================] - 1s 4ms/step - loss: 0.4083 - accuracy: 0.8486 - val_loss: 0.4038 - val_accuracy: 0.8531\n",
      "Epoch 40/50\n",
      "373/373 [==============================] - 1s 3ms/step - loss: 0.4082 - accuracy: 0.8491 - val_loss: 0.4064 - val_accuracy: 0.8602\n",
      "Epoch 41/50\n",
      "373/373 [==============================] - 1s 4ms/step - loss: 0.4081 - accuracy: 0.8486 - val_loss: 0.4040 - val_accuracy: 0.8538\n",
      "Epoch 42/50\n",
      "373/373 [==============================] - 1s 3ms/step - loss: 0.4077 - accuracy: 0.8495 - val_loss: 0.4088 - val_accuracy: 0.8585\n",
      "Epoch 43/50\n",
      "373/373 [==============================] - 1s 3ms/step - loss: 0.4076 - accuracy: 0.8496 - val_loss: 0.4032 - val_accuracy: 0.8541\n",
      "Epoch 44/50\n",
      "373/373 [==============================] - 1s 3ms/step - loss: 0.4073 - accuracy: 0.8498 - val_loss: 0.4046 - val_accuracy: 0.8568\n",
      "Epoch 45/50\n",
      "373/373 [==============================] - 1s 3ms/step - loss: 0.4070 - accuracy: 0.8494 - val_loss: 0.4019 - val_accuracy: 0.8535\n",
      "Epoch 46/50\n",
      "373/373 [==============================] - 1s 3ms/step - loss: 0.4068 - accuracy: 0.8499 - val_loss: 0.4035 - val_accuracy: 0.8535\n",
      "Epoch 47/50\n",
      "373/373 [==============================] - 1s 3ms/step - loss: 0.4066 - accuracy: 0.8496 - val_loss: 0.4111 - val_accuracy: 0.8578\n",
      "Epoch 48/50\n",
      "373/373 [==============================] - 1s 3ms/step - loss: 0.4066 - accuracy: 0.8502 - val_loss: 0.4019 - val_accuracy: 0.8541\n",
      "Epoch 49/50\n",
      "373/373 [==============================] - 2s 4ms/step - loss: 0.4063 - accuracy: 0.8508 - val_loss: 0.4006 - val_accuracy: 0.8541\n",
      "Epoch 50/50\n",
      "373/373 [==============================] - 1s 3ms/step - loss: 0.4063 - accuracy: 0.8502 - val_loss: 0.4030 - val_accuracy: 0.8595\n"
     ]
    }
   ],
   "source": [
    "history = model.fit(X_train, y_train, epochs=50, batch_size=32, validation_split=0.2, verbose=1)"
   ]
  },
  {
   "cell_type": "code",
   "execution_count": 31,
   "metadata": {},
   "outputs": [
    {
     "name": "stdout",
     "output_type": "stream",
     "text": [
      "117/117 [==============================] - 1s 2ms/step\n",
      "Accuracy: 0.852159914140059\n",
      "Classification Report:\n",
      "               precision    recall  f1-score   support\n",
      "\n",
      "           0       0.86      0.90      0.88      2209\n",
      "           1       0.84      0.78      0.81      1518\n",
      "\n",
      "    accuracy                           0.85      3727\n",
      "   macro avg       0.85      0.84      0.84      3727\n",
      "weighted avg       0.85      0.85      0.85      3727\n",
      "\n"
     ]
    }
   ],
   "source": [
    "y_pred = (model.predict(X_test) > 0.5).astype(\"int32\")\n",
    "print(\"Accuracy:\", accuracy_score(y_test, y_pred))\n",
    "print(\"Classification Report:\\n\", classification_report(y_test, y_pred))"
   ]
  },
  {
   "cell_type": "code",
   "execution_count": 32,
   "metadata": {},
   "outputs": [
    {
     "name": "stderr",
     "output_type": "stream",
     "text": [
      "c:\\Users\\toufic.f\\AppData\\Local\\Programs\\Python\\Python39\\lib\\site-packages\\keras\\src\\engine\\training.py:3103: UserWarning: You are saving your model as an HDF5 file via `model.save()`. This file format is considered legacy. We recommend using instead the native Keras format, e.g. `model.save('my_model.keras')`.\n",
      "  saving_api.save_model(\n"
     ]
    },
    {
     "ename": "",
     "evalue": "",
     "output_type": "error",
     "traceback": [
      "\u001b[1;31mThe Kernel crashed while executing code in the current cell or a previous cell. \n",
      "\u001b[1;31mPlease review the code in the cell(s) to identify a possible cause of the failure. \n",
      "\u001b[1;31mClick <a href='https://aka.ms/vscodeJupyterKernelCrash'>here</a> for more info. \n",
      "\u001b[1;31mView Jupyter <a href='command:jupyter.viewOutput'>log</a> for further details."
     ]
    }
   ],
   "source": [
    "model.save('../models/neural_network_meta_classifier.h5')"
   ]
  }
 ],
 "metadata": {
  "kernelspec": {
   "display_name": "Python 3",
   "language": "python",
   "name": "python3"
  },
  "language_info": {
   "codemirror_mode": {
    "name": "ipython",
    "version": 3
   },
   "file_extension": ".py",
   "mimetype": "text/x-python",
   "name": "python",
   "nbconvert_exporter": "python",
   "pygments_lexer": "ipython3",
   "version": "3.9.1"
  }
 },
 "nbformat": 4,
 "nbformat_minor": 2
}
