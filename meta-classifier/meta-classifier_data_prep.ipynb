{
 "cells": [
  {
   "cell_type": "code",
   "execution_count": 1,
   "metadata": {},
   "outputs": [],
   "source": [
    "import pandas as pd"
   ]
  },
  {
   "cell_type": "code",
   "execution_count": 13,
   "metadata": {},
   "outputs": [],
   "source": [
    "email_predictions = pd.read_csv('../phishing_email/new_email_dataset_with_predictions.csv')\n",
    "url_predictions = pd.read_csv('../phishing_url/new_url_dataset_with_predictions.csv')"
   ]
  },
  {
   "cell_type": "code",
   "execution_count": 14,
   "metadata": {},
   "outputs": [
    {
     "name": "stderr",
     "output_type": "stream",
     "text": [
      "C:\\Users\\toufic.f\\AppData\\Local\\Temp\\ipykernel_14100\\511432688.py:16: SettingWithCopyWarning: \n",
      "A value is trying to be set on a copy of a slice from a DataFrame.\n",
      "Try using .loc[row_indexer,col_indexer] = value instead\n",
      "\n",
      "See the caveats in the documentation: https://pandas.pydata.org/pandas-docs/stable/user_guide/indexing.html#returning-a-view-versus-a-copy\n",
      "  phishing_emails['url_id'] = phishing_url_indices[:num_phishing_emails]\n",
      "C:\\Users\\toufic.f\\AppData\\Local\\Temp\\ipykernel_14100\\511432688.py:19: SettingWithCopyWarning: \n",
      "A value is trying to be set on a copy of a slice from a DataFrame.\n",
      "Try using .loc[row_indexer,col_indexer] = value instead\n",
      "\n",
      "See the caveats in the documentation: https://pandas.pydata.org/pandas-docs/stable/user_guide/indexing.html#returning-a-view-versus-a-copy\n",
      "  safe_emails['url_id'] = safe_url_indices[:num_safe_emails]\n"
     ]
    }
   ],
   "source": [
    "# Combining them arbitrary based on the phishing label just for POC\n",
    "phishing_emails = email_predictions[email_predictions['label'] == 1]\n",
    "phishing_urls = url_predictions[url_predictions['label'] == 1]\n",
    "\n",
    "safe_emails = email_predictions[email_predictions['label'] == 0]\n",
    "safe_urls = url_predictions[url_predictions['label'] == 0]\n",
    "\n",
    "# Assigning phishing URLs to phishing emails\n",
    "num_phishing_emails = len(phishing_emails)\n",
    "num_phishing_urls = len(phishing_urls)\n",
    "num_safe_emails = len(safe_emails)\n",
    "num_safe_urls = len(safe_urls)\n",
    "\n",
    "# Ensuring that every phishing email has a corresponding phishing url\n",
    "phishing_url_indices = list(range(num_phishing_urls)) * (num_phishing_emails // num_phishing_urls) + list(range(num_phishing_emails % num_phishing_urls))\n",
    "phishing_emails['url_id'] = phishing_url_indices[:num_phishing_emails]\n",
    "\n",
    "safe_url_indices = list(range(num_safe_urls)) * (num_safe_emails // num_safe_urls) + list(range(num_safe_emails % num_safe_urls))\n",
    "safe_emails['url_id'] = safe_url_indices[:num_safe_emails]\n",
    "\n",
    "merged_phishing_data = pd.merge(phishing_emails, phishing_urls, left_on='url_id', right_index=True, suffixes=('_email', '_url'))\n",
    "merged_safe_data = pd.merge(safe_emails, safe_urls, left_on='url_id', right_index=True, suffixes=('_email', '_url'))\n",
    "\n",
    "merged_data = pd.concat([merged_phishing_data, merged_safe_data])\n",
    "\n"
   ]
  },
  {
   "cell_type": "code",
   "execution_count": 17,
   "metadata": {},
   "outputs": [
    {
     "data": {
      "text/plain": [
       "label_email\n",
       "0    710\n",
       "1    303\n",
       "Name: count, dtype: int64"
      ]
     },
     "execution_count": 17,
     "metadata": {},
     "output_type": "execute_result"
    }
   ],
   "source": [
    "merged_data[\"label_email\"].value_counts()"
   ]
  },
  {
   "cell_type": "code",
   "execution_count": 19,
   "metadata": {},
   "outputs": [],
   "source": [
    "merged_data.to_csv('merged_data_with_predictions.csv', index=False)"
   ]
  }
 ],
 "metadata": {
  "kernelspec": {
   "display_name": "Python 3",
   "language": "python",
   "name": "python3"
  },
  "language_info": {
   "codemirror_mode": {
    "name": "ipython",
    "version": 3
   },
   "file_extension": ".py",
   "mimetype": "text/x-python",
   "name": "python",
   "nbconvert_exporter": "python",
   "pygments_lexer": "ipython3",
   "version": "3.9.1"
  }
 },
 "nbformat": 4,
 "nbformat_minor": 2
}
