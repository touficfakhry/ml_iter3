{
 "cells": [
  {
   "cell_type": "code",
   "execution_count": 68,
   "metadata": {},
   "outputs": [],
   "source": [
    "import pandas as pd\n",
    "import numpy as np\n",
    "import tensorflow as tf\n",
    "from tensorflow.keras.models import Sequential, Model\n",
    "from tensorflow.keras.layers import Dense, Dropout, Flatten, Embedding, Input, Concatenate\n",
    "from tensorflow.keras.preprocessing.text import Tokenizer\n",
    "from tensorflow.keras.preprocessing.sequence import pad_sequences\n",
    "from sklearn.preprocessing import OneHotEncoder, StandardScaler\n",
    "from sklearn.compose import ColumnTransformer\n",
    "from sklearn.pipeline import Pipeline\n",
    "from sklearn.impute import SimpleImputer\n",
    "from sklearn.model_selection import train_test_split\n",
    "from sklearn.metrics import accuracy_score\n",
    "from gensim.models import Word2Vec\n",
    "from nltk.tokenize import word_tokenize\n",
    "from nltk.corpus import stopwords\n",
    "import string\n",
    "import matplotlib.pyplot as plt"
   ]
  },
  {
   "cell_type": "code",
   "execution_count": 2,
   "metadata": {},
   "outputs": [],
   "source": [
    "merged_data = pd.read_csv('merged_data_with_predictions.csv')"
   ]
  },
  {
   "cell_type": "code",
   "execution_count": 3,
   "metadata": {},
   "outputs": [
    {
     "data": {
      "text/html": [
       "<div>\n",
       "<style scoped>\n",
       "    .dataframe tbody tr th:only-of-type {\n",
       "        vertical-align: middle;\n",
       "    }\n",
       "\n",
       "    .dataframe tbody tr th {\n",
       "        vertical-align: top;\n",
       "    }\n",
       "\n",
       "    .dataframe thead th {\n",
       "        text-align: right;\n",
       "    }\n",
       "</style>\n",
       "<table border=\"1\" class=\"dataframe\">\n",
       "  <thead>\n",
       "    <tr style=\"text-align: right;\">\n",
       "      <th></th>\n",
       "      <th>subject</th>\n",
       "      <th>body</th>\n",
       "      <th>label_email</th>\n",
       "      <th>predicted_class_email</th>\n",
       "      <th>predicted_class_encoded_email</th>\n",
       "      <th>correct_prediction_email</th>\n",
       "      <th>url_id</th>\n",
       "      <th>URL</th>\n",
       "      <th>label_url</th>\n",
       "      <th>url_len</th>\n",
       "      <th>...</th>\n",
       "      <th>//</th>\n",
       "      <th>abnormal_url</th>\n",
       "      <th>https</th>\n",
       "      <th>digits</th>\n",
       "      <th>letters</th>\n",
       "      <th>Shortining_Service</th>\n",
       "      <th>having_ip_address</th>\n",
       "      <th>predicted_class_url</th>\n",
       "      <th>predicted_class_encoded_url</th>\n",
       "      <th>correct_prediction_url</th>\n",
       "    </tr>\n",
       "  </thead>\n",
       "  <tbody>\n",
       "    <tr>\n",
       "      <th>0</th>\n",
       "      <td>free</td>\n",
       "      <td>this is a multi-part message in mime format . ...</td>\n",
       "      <td>1</td>\n",
       "      <td>Phishing Email</td>\n",
       "      <td>1</td>\n",
       "      <td>True</td>\n",
       "      <td>0</td>\n",
       "      <td>https://southbankmosaics.com</td>\n",
       "      <td>1</td>\n",
       "      <td>28</td>\n",
       "      <td>...</td>\n",
       "      <td>1</td>\n",
       "      <td>1</td>\n",
       "      <td>1</td>\n",
       "      <td>0</td>\n",
       "      <td>24</td>\n",
       "      <td>0</td>\n",
       "      <td>0</td>\n",
       "      <td>1</td>\n",
       "      <td>Phishing URL</td>\n",
       "      <td>True</td>\n",
       "    </tr>\n",
       "    <tr>\n",
       "      <th>1</th>\n",
       "      <td>the internet success toolbox</td>\n",
       "      <td>note : we do not wish to send e-mail to anyone...</td>\n",
       "      <td>1</td>\n",
       "      <td>Phishing Email</td>\n",
       "      <td>1</td>\n",
       "      <td>True</td>\n",
       "      <td>1</td>\n",
       "      <td>https://uni-mainz.de</td>\n",
       "      <td>1</td>\n",
       "      <td>20</td>\n",
       "      <td>...</td>\n",
       "      <td>1</td>\n",
       "      <td>1</td>\n",
       "      <td>1</td>\n",
       "      <td>0</td>\n",
       "      <td>15</td>\n",
       "      <td>0</td>\n",
       "      <td>0</td>\n",
       "      <td>1</td>\n",
       "      <td>Phishing URL</td>\n",
       "      <td>True</td>\n",
       "    </tr>\n",
       "    <tr>\n",
       "      <th>2</th>\n",
       "      <td>free stealth 3 . 0 bulk email software . . .</td>\n",
       "      <td>just released . . . 30 , 000 , 000 email addre...</td>\n",
       "      <td>1</td>\n",
       "      <td>Phishing Email</td>\n",
       "      <td>1</td>\n",
       "      <td>True</td>\n",
       "      <td>2</td>\n",
       "      <td>https://voicefmradio.co.uk</td>\n",
       "      <td>1</td>\n",
       "      <td>26</td>\n",
       "      <td>...</td>\n",
       "      <td>1</td>\n",
       "      <td>1</td>\n",
       "      <td>1</td>\n",
       "      <td>0</td>\n",
       "      <td>21</td>\n",
       "      <td>0</td>\n",
       "      <td>0</td>\n",
       "      <td>1</td>\n",
       "      <td>Phishing URL</td>\n",
       "      <td>True</td>\n",
       "    </tr>\n",
       "    <tr>\n",
       "      <th>3</th>\n",
       "      <td>need more money ?</td>\n",
       "      <td>hi , would you like to earn an extra $ 700 a w...</td>\n",
       "      <td>1</td>\n",
       "      <td>Phishing Email</td>\n",
       "      <td>1</td>\n",
       "      <td>True</td>\n",
       "      <td>3</td>\n",
       "      <td>https://sfnmjournal.com</td>\n",
       "      <td>1</td>\n",
       "      <td>23</td>\n",
       "      <td>...</td>\n",
       "      <td>1</td>\n",
       "      <td>1</td>\n",
       "      <td>1</td>\n",
       "      <td>0</td>\n",
       "      <td>19</td>\n",
       "      <td>0</td>\n",
       "      <td>0</td>\n",
       "      <td>1</td>\n",
       "      <td>Phishing URL</td>\n",
       "      <td>True</td>\n",
       "    </tr>\n",
       "    <tr>\n",
       "      <th>4</th>\n",
       "      <td>cable decsrambler now only $ 6 . 99 !</td>\n",
       "      <td>this is really cool ! premium channels and pay...</td>\n",
       "      <td>1</td>\n",
       "      <td>Phishing Email</td>\n",
       "      <td>1</td>\n",
       "      <td>True</td>\n",
       "      <td>4</td>\n",
       "      <td>https://rewildingargentina.org</td>\n",
       "      <td>1</td>\n",
       "      <td>30</td>\n",
       "      <td>...</td>\n",
       "      <td>1</td>\n",
       "      <td>1</td>\n",
       "      <td>1</td>\n",
       "      <td>0</td>\n",
       "      <td>26</td>\n",
       "      <td>0</td>\n",
       "      <td>0</td>\n",
       "      <td>1</td>\n",
       "      <td>Phishing URL</td>\n",
       "      <td>True</td>\n",
       "    </tr>\n",
       "  </tbody>\n",
       "</table>\n",
       "<p>5 rows × 33 columns</p>\n",
       "</div>"
      ],
      "text/plain": [
       "                                        subject  \\\n",
       "0                                          free   \n",
       "1                  the internet success toolbox   \n",
       "2  free stealth 3 . 0 bulk email software . . .   \n",
       "3                             need more money ?   \n",
       "4         cable decsrambler now only $ 6 . 99 !   \n",
       "\n",
       "                                                body  label_email  \\\n",
       "0  this is a multi-part message in mime format . ...            1   \n",
       "1  note : we do not wish to send e-mail to anyone...            1   \n",
       "2  just released . . . 30 , 000 , 000 email addre...            1   \n",
       "3  hi , would you like to earn an extra $ 700 a w...            1   \n",
       "4  this is really cool ! premium channels and pay...            1   \n",
       "\n",
       "  predicted_class_email  predicted_class_encoded_email  \\\n",
       "0        Phishing Email                              1   \n",
       "1        Phishing Email                              1   \n",
       "2        Phishing Email                              1   \n",
       "3        Phishing Email                              1   \n",
       "4        Phishing Email                              1   \n",
       "\n",
       "   correct_prediction_email  url_id                             URL  \\\n",
       "0                      True       0    https://southbankmosaics.com   \n",
       "1                      True       1            https://uni-mainz.de   \n",
       "2                      True       2      https://voicefmradio.co.uk   \n",
       "3                      True       3         https://sfnmjournal.com   \n",
       "4                      True       4  https://rewildingargentina.org   \n",
       "\n",
       "   label_url  url_len  ... //  abnormal_url  https  digits  letters  \\\n",
       "0          1       28  ...  1             1      1       0       24   \n",
       "1          1       20  ...  1             1      1       0       15   \n",
       "2          1       26  ...  1             1      1       0       21   \n",
       "3          1       23  ...  1             1      1       0       19   \n",
       "4          1       30  ...  1             1      1       0       26   \n",
       "\n",
       "   Shortining_Service  having_ip_address  predicted_class_url  \\\n",
       "0                   0                  0                    1   \n",
       "1                   0                  0                    1   \n",
       "2                   0                  0                    1   \n",
       "3                   0                  0                    1   \n",
       "4                   0                  0                    1   \n",
       "\n",
       "   predicted_class_encoded_url  correct_prediction_url  \n",
       "0                 Phishing URL                    True  \n",
       "1                 Phishing URL                    True  \n",
       "2                 Phishing URL                    True  \n",
       "3                 Phishing URL                    True  \n",
       "4                 Phishing URL                    True  \n",
       "\n",
       "[5 rows x 33 columns]"
      ]
     },
     "execution_count": 3,
     "metadata": {},
     "output_type": "execute_result"
    }
   ],
   "source": [
    "merged_data.head()"
   ]
  },
  {
   "cell_type": "code",
   "execution_count": 65,
   "metadata": {},
   "outputs": [
    {
     "name": "stdout",
     "output_type": "stream",
     "text": [
      "subject                          31\n",
      "body                              0\n",
      "label_email                       0\n",
      "predicted_class_email             0\n",
      "predicted_class_encoded_email     0\n",
      "correct_prediction_email          0\n",
      "url_id                            0\n",
      "URL                               0\n",
      "label_url                         0\n",
      "url_len                           0\n",
      "domain                            4\n",
      "@                                 0\n",
      "?                                 0\n",
      "-                                 0\n",
      "=                                 0\n",
      ".                                 0\n",
      "#                                 0\n",
      "%                                 0\n",
      "+                                 0\n",
      "$                                 0\n",
      "!                                 0\n",
      "*                                 0\n",
      ",                                 0\n",
      "//                                0\n",
      "abnormal_url                      0\n",
      "https                             0\n",
      "digits                            0\n",
      "letters                           0\n",
      "Shortining_Service                0\n",
      "having_ip_address                 0\n",
      "predicted_class_url               0\n",
      "predicted_class_encoded_url       0\n",
      "correct_prediction_url            0\n",
      "dtype: int64\n"
     ]
    }
   ],
   "source": [
    "print(merged_data.isna().sum())"
   ]
  },
  {
   "cell_type": "code",
   "execution_count": 67,
   "metadata": {},
   "outputs": [
    {
     "data": {
      "text/plain": [
       "Index(['subject', 'body', 'label_email', 'predicted_class_email',\n",
       "       'predicted_class_encoded_email', 'correct_prediction_email', 'url_id',\n",
       "       'URL', 'label_url', 'url_len', 'domain', '@', '?', '-', '=', '.', '#',\n",
       "       '%', '+', '$', '!', '*', ',', '//', 'abnormal_url', 'https', 'digits',\n",
       "       'letters', 'Shortining_Service', 'having_ip_address',\n",
       "       'predicted_class_url', 'predicted_class_encoded_url',\n",
       "       'correct_prediction_url'],\n",
       "      dtype='object')"
      ]
     },
     "execution_count": 67,
     "metadata": {},
     "output_type": "execute_result"
    }
   ],
   "source": [
    "merged_data.columns"
   ]
  },
  {
   "cell_type": "code",
   "execution_count": 69,
   "metadata": {},
   "outputs": [],
   "source": [
    "columns_to_drop = ['subject', 'body', 'url_id', 'URL', 'predicted_class_email', 'correct_prediction_email', 'label_url', 'correct_prediction_url', 'predicted_class_encoded_url', 'predicted_class_encoded_email']\n",
    "# columns_to_encode = ['domain', '@', '?', '-', '=', '.', '#', '%', '+', '$', '!', '*', ',', '//', 'abnormal_url', 'https']\n",
    "columns_to_encode = ['domain']"
   ]
  },
  {
   "cell_type": "code",
   "execution_count": null,
   "metadata": {},
   "outputs": [],
   "source": [
    "# Define preprocessing steps\n",
    "preprocessor = ColumnTransformer(\n",
    "    transformers=[\n",
    "        ('drop_columns', 'drop', columns_to_drop),\n",
    "        ('encode_columns', OneHotEncoder(), columns_to_encode)\n",
    "    ],\n",
    "    remainder='passthrough'\n",
    ")\n",
    "\n",
    "\n",
    "pipeline = Pipeline([\n",
    "    ('preprocessor', preprocessor),\n",
    "    ('scaler', StandardScaler())\n",
    "])"
   ]
  },
  {
   "cell_type": "code",
   "execution_count": null,
   "metadata": {},
   "outputs": [],
   "source": []
  },
  {
   "cell_type": "code",
   "execution_count": 5,
   "metadata": {},
   "outputs": [],
   "source": [
    "X_email_data = pd.DataFrame()\n",
    "X['subject_tokenized']= merged_data['subject'].fillna('').apply(lambda x: word_tokenize(x.lower()))\n",
    "X['body_tokenized'] = merged_data['body'].apply(lambda x: word_tokenize(x.lower()))"
   ]
  },
  {
   "cell_type": "code",
   "execution_count": 6,
   "metadata": {},
   "outputs": [],
   "source": [
    "X_url_features = pd.get_dummies(merged_data[['domain', '@', '?', '-', '=', '.', '#', '%', '+', '$', '!', '*', ',', '//', 'abnormal_url', 'https', 'digits', 'letters', 'Shortining_Service', 'having_ip_address']])\n",
    "y = merged_data['label_email']"
   ]
  },
  {
   "cell_type": "code",
   "execution_count": 7,
   "metadata": {},
   "outputs": [],
   "source": [
    "#removing stop words\n",
    "stop_words = set(stopwords.words('english'))\n",
    "X['body_tokenized'] = X['body_tokenized'].apply(lambda x: [word for word in x if word not in stop_words and word not in string.punctuation])"
   ]
  },
  {
   "cell_type": "code",
   "execution_count": 8,
   "metadata": {},
   "outputs": [
    {
     "data": {
      "text/html": [
       "<div>\n",
       "<style scoped>\n",
       "    .dataframe tbody tr th:only-of-type {\n",
       "        vertical-align: middle;\n",
       "    }\n",
       "\n",
       "    .dataframe tbody tr th {\n",
       "        vertical-align: top;\n",
       "    }\n",
       "\n",
       "    .dataframe thead th {\n",
       "        text-align: right;\n",
       "    }\n",
       "</style>\n",
       "<table border=\"1\" class=\"dataframe\">\n",
       "  <thead>\n",
       "    <tr style=\"text-align: right;\">\n",
       "      <th></th>\n",
       "      <th>subject_tokenized</th>\n",
       "      <th>body_tokenized</th>\n",
       "    </tr>\n",
       "  </thead>\n",
       "  <tbody>\n",
       "    <tr>\n",
       "      <th>0</th>\n",
       "      <td>[free]</td>\n",
       "      <td>[multi-part, message, mime, format, nextpart, ...</td>\n",
       "    </tr>\n",
       "    <tr>\n",
       "      <th>1</th>\n",
       "      <td>[the, internet, success, toolbox]</td>\n",
       "      <td>[note, wish, send, e-mail, anyone, want, pleas...</td>\n",
       "    </tr>\n",
       "    <tr>\n",
       "      <th>2</th>\n",
       "      <td>[free, stealth, 3, ., 0, bulk, email, software...</td>\n",
       "      <td>[released, 30, 000, 000, email, addresses, plu...</td>\n",
       "    </tr>\n",
       "    <tr>\n",
       "      <th>3</th>\n",
       "      <td>[need, more, money, ?]</td>\n",
       "      <td>[hi, would, like, earn, extra, 700, week, 2, 8...</td>\n",
       "    </tr>\n",
       "    <tr>\n",
       "      <th>4</th>\n",
       "      <td>[cable, decsrambler, now, only, $, 6, ., 99, !]</td>\n",
       "      <td>[really, cool, premium, channels, pay, per, vi...</td>\n",
       "    </tr>\n",
       "  </tbody>\n",
       "</table>\n",
       "</div>"
      ],
      "text/plain": [
       "                                   subject_tokenized  \\\n",
       "0                                             [free]   \n",
       "1                  [the, internet, success, toolbox]   \n",
       "2  [free, stealth, 3, ., 0, bulk, email, software...   \n",
       "3                             [need, more, money, ?]   \n",
       "4    [cable, decsrambler, now, only, $, 6, ., 99, !]   \n",
       "\n",
       "                                      body_tokenized  \n",
       "0  [multi-part, message, mime, format, nextpart, ...  \n",
       "1  [note, wish, send, e-mail, anyone, want, pleas...  \n",
       "2  [released, 30, 000, 000, email, addresses, plu...  \n",
       "3  [hi, would, like, earn, extra, 700, week, 2, 8...  \n",
       "4  [really, cool, premium, channels, pay, per, vi...  "
      ]
     },
     "execution_count": 8,
     "metadata": {},
     "output_type": "execute_result"
    }
   ],
   "source": [
    "X.head()"
   ]
  },
  {
   "cell_type": "code",
   "execution_count": 36,
   "metadata": {},
   "outputs": [
    {
     "data": {
      "text/html": [
       "<div>\n",
       "<style scoped>\n",
       "    .dataframe tbody tr th:only-of-type {\n",
       "        vertical-align: middle;\n",
       "    }\n",
       "\n",
       "    .dataframe tbody tr th {\n",
       "        vertical-align: top;\n",
       "    }\n",
       "\n",
       "    .dataframe thead th {\n",
       "        text-align: right;\n",
       "    }\n",
       "</style>\n",
       "<table border=\"1\" class=\"dataframe\">\n",
       "  <thead>\n",
       "    <tr style=\"text-align: right;\">\n",
       "      <th></th>\n",
       "      <th>@</th>\n",
       "      <th>?</th>\n",
       "      <th>-</th>\n",
       "      <th>=</th>\n",
       "      <th>.</th>\n",
       "      <th>#</th>\n",
       "      <th>%</th>\n",
       "      <th>+</th>\n",
       "      <th>$</th>\n",
       "      <th>!</th>\n",
       "      <th>...</th>\n",
       "      <th>domain_ytv.co.jp</th>\n",
       "      <th>domain_yzxlsc.com</th>\n",
       "      <th>domain_z9a7yo.webwave.dev</th>\n",
       "      <th>domain_zadar.hr</th>\n",
       "      <th>domain_zellepay9-1211c.firebaseapp.com</th>\n",
       "      <th>domain_zelmao.ga</th>\n",
       "      <th>domain_zomoplus.store</th>\n",
       "      <th>domain_zrg34-f955e.firebaseapp.com</th>\n",
       "      <th>domain_zurbrioerf.com</th>\n",
       "      <th>domain_zxporter.com</th>\n",
       "    </tr>\n",
       "  </thead>\n",
       "  <tbody>\n",
       "    <tr>\n",
       "      <th>0</th>\n",
       "      <td>0</td>\n",
       "      <td>0</td>\n",
       "      <td>0</td>\n",
       "      <td>0</td>\n",
       "      <td>1</td>\n",
       "      <td>0</td>\n",
       "      <td>0</td>\n",
       "      <td>0</td>\n",
       "      <td>0</td>\n",
       "      <td>0</td>\n",
       "      <td>...</td>\n",
       "      <td>False</td>\n",
       "      <td>False</td>\n",
       "      <td>False</td>\n",
       "      <td>False</td>\n",
       "      <td>False</td>\n",
       "      <td>False</td>\n",
       "      <td>False</td>\n",
       "      <td>False</td>\n",
       "      <td>False</td>\n",
       "      <td>False</td>\n",
       "    </tr>\n",
       "    <tr>\n",
       "      <th>1</th>\n",
       "      <td>0</td>\n",
       "      <td>0</td>\n",
       "      <td>1</td>\n",
       "      <td>0</td>\n",
       "      <td>1</td>\n",
       "      <td>0</td>\n",
       "      <td>0</td>\n",
       "      <td>0</td>\n",
       "      <td>0</td>\n",
       "      <td>0</td>\n",
       "      <td>...</td>\n",
       "      <td>False</td>\n",
       "      <td>False</td>\n",
       "      <td>False</td>\n",
       "      <td>False</td>\n",
       "      <td>False</td>\n",
       "      <td>False</td>\n",
       "      <td>False</td>\n",
       "      <td>False</td>\n",
       "      <td>False</td>\n",
       "      <td>False</td>\n",
       "    </tr>\n",
       "    <tr>\n",
       "      <th>2</th>\n",
       "      <td>0</td>\n",
       "      <td>0</td>\n",
       "      <td>0</td>\n",
       "      <td>0</td>\n",
       "      <td>2</td>\n",
       "      <td>0</td>\n",
       "      <td>0</td>\n",
       "      <td>0</td>\n",
       "      <td>0</td>\n",
       "      <td>0</td>\n",
       "      <td>...</td>\n",
       "      <td>False</td>\n",
       "      <td>False</td>\n",
       "      <td>False</td>\n",
       "      <td>False</td>\n",
       "      <td>False</td>\n",
       "      <td>False</td>\n",
       "      <td>False</td>\n",
       "      <td>False</td>\n",
       "      <td>False</td>\n",
       "      <td>False</td>\n",
       "    </tr>\n",
       "    <tr>\n",
       "      <th>3</th>\n",
       "      <td>0</td>\n",
       "      <td>0</td>\n",
       "      <td>0</td>\n",
       "      <td>0</td>\n",
       "      <td>1</td>\n",
       "      <td>0</td>\n",
       "      <td>0</td>\n",
       "      <td>0</td>\n",
       "      <td>0</td>\n",
       "      <td>0</td>\n",
       "      <td>...</td>\n",
       "      <td>False</td>\n",
       "      <td>False</td>\n",
       "      <td>False</td>\n",
       "      <td>False</td>\n",
       "      <td>False</td>\n",
       "      <td>False</td>\n",
       "      <td>False</td>\n",
       "      <td>False</td>\n",
       "      <td>False</td>\n",
       "      <td>False</td>\n",
       "    </tr>\n",
       "    <tr>\n",
       "      <th>4</th>\n",
       "      <td>0</td>\n",
       "      <td>0</td>\n",
       "      <td>0</td>\n",
       "      <td>0</td>\n",
       "      <td>1</td>\n",
       "      <td>0</td>\n",
       "      <td>0</td>\n",
       "      <td>0</td>\n",
       "      <td>0</td>\n",
       "      <td>0</td>\n",
       "      <td>...</td>\n",
       "      <td>False</td>\n",
       "      <td>False</td>\n",
       "      <td>False</td>\n",
       "      <td>False</td>\n",
       "      <td>False</td>\n",
       "      <td>False</td>\n",
       "      <td>False</td>\n",
       "      <td>False</td>\n",
       "      <td>False</td>\n",
       "      <td>False</td>\n",
       "    </tr>\n",
       "  </tbody>\n",
       "</table>\n",
       "<p>5 rows × 1008 columns</p>\n",
       "</div>"
      ],
      "text/plain": [
       "   @  ?  -  =  .  #  %  +  $  !  ...  domain_ytv.co.jp  domain_yzxlsc.com  \\\n",
       "0  0  0  0  0  1  0  0  0  0  0  ...             False              False   \n",
       "1  0  0  1  0  1  0  0  0  0  0  ...             False              False   \n",
       "2  0  0  0  0  2  0  0  0  0  0  ...             False              False   \n",
       "3  0  0  0  0  1  0  0  0  0  0  ...             False              False   \n",
       "4  0  0  0  0  1  0  0  0  0  0  ...             False              False   \n",
       "\n",
       "   domain_z9a7yo.webwave.dev  domain_zadar.hr  \\\n",
       "0                      False            False   \n",
       "1                      False            False   \n",
       "2                      False            False   \n",
       "3                      False            False   \n",
       "4                      False            False   \n",
       "\n",
       "   domain_zellepay9-1211c.firebaseapp.com  domain_zelmao.ga  \\\n",
       "0                                   False             False   \n",
       "1                                   False             False   \n",
       "2                                   False             False   \n",
       "3                                   False             False   \n",
       "4                                   False             False   \n",
       "\n",
       "   domain_zomoplus.store  domain_zrg34-f955e.firebaseapp.com  \\\n",
       "0                  False                               False   \n",
       "1                  False                               False   \n",
       "2                  False                               False   \n",
       "3                  False                               False   \n",
       "4                  False                               False   \n",
       "\n",
       "   domain_zurbrioerf.com  domain_zxporter.com  \n",
       "0                  False                False  \n",
       "1                  False                False  \n",
       "2                  False                False  \n",
       "3                  False                False  \n",
       "4                  False                False  \n",
       "\n",
       "[5 rows x 1008 columns]"
      ]
     },
     "execution_count": 36,
     "metadata": {},
     "output_type": "execute_result"
    }
   ],
   "source": [
    "X_url_features.head()"
   ]
  },
  {
   "cell_type": "code",
   "execution_count": 71,
   "metadata": {},
   "outputs": [
    {
     "data": {
      "text/plain": [
       "0        0\n",
       "1        0\n",
       "2        0\n",
       "3        0\n",
       "4        0\n",
       "        ..\n",
       "1008    13\n",
       "1009     0\n",
       "1010     4\n",
       "1011     9\n",
       "1012     0\n",
       "Name: digits, Length: 1013, dtype: int64"
      ]
     },
     "execution_count": 71,
     "metadata": {},
     "output_type": "execute_result"
    }
   ],
   "source": [
    "X_url_features['digits']"
   ]
  },
  {
   "cell_type": "code",
   "execution_count": 23,
   "metadata": {},
   "outputs": [
    {
     "name": "stdout",
     "output_type": "stream",
     "text": [
      "(1013, 2)\n",
      "(1013, 1008)\n"
     ]
    }
   ],
   "source": [
    "print(X.shape)\n",
    "print(X_url_features.shape)"
   ]
  },
  {
   "cell_type": "code",
   "execution_count": 25,
   "metadata": {},
   "outputs": [],
   "source": [
    "X_train, X_test, y_train, y_test = train_test_split(X, y, test_size=0.2, random_state=42)\n",
    "X_url_train, X_url_test, y_url_train, y_url_test = train_test_split(X_url_features, y, test_size=0.2, random_state=42)\n"
   ]
  },
  {
   "cell_type": "code",
   "execution_count": 26,
   "metadata": {},
   "outputs": [],
   "source": [
    "tokenizer = Tokenizer()\n",
    "tokenizer.fit_on_texts(X_train['body_tokenized'])"
   ]
  },
  {
   "cell_type": "code",
   "execution_count": 27,
   "metadata": {},
   "outputs": [],
   "source": [
    "# converting the tokenized words to sequence\n",
    "X_train_seq = tokenizer.texts_to_sequences(X_train['body_tokenized'])\n",
    "X_test_seq = tokenizer.texts_to_sequences(X_test['body_tokenized'])"
   ]
  },
  {
   "cell_type": "code",
   "execution_count": 28,
   "metadata": {},
   "outputs": [],
   "source": [
    "train_seq_length = [len(seq) for seq in X_train_seq]"
   ]
  },
  {
   "cell_type": "code",
   "execution_count": 29,
   "metadata": {},
   "outputs": [
    {
     "data": {
      "image/png": "[encoded data removed]",
      "text/plain": [
       "<Figure size 640x480 with 1 Axes>"
      ]
     },
     "metadata": {},
     "output_type": "display_data"
    }
   ],
   "source": [
    "plt.hist(train_seq_length, bins=10)\n",
    "plt.xlabel('Sequence Length')\n",
    "plt.ylabel('Frequency')\n",
    "plt.title('Histogram of Sequence Lengths')\n",
    "plt.show()"
   ]
  },
  {
   "cell_type": "code",
   "execution_count": 30,
   "metadata": {},
   "outputs": [],
   "source": [
    "# Pad sequences to ensure uniform length\n",
    "X_train_pad = pad_sequences(X_train_seq, maxlen=100)\n",
    "X_test_pad = pad_sequences(X_test_seq, maxlen=100)"
   ]
  },
  {
   "cell_type": "code",
   "execution_count": 40,
   "metadata": {},
   "outputs": [
    {
     "data": {
      "text/plain": [
       "array([[ 1422,   774,   140, ...,    10, 10353,  6824],\n",
       "       [  411,  1041,    89, ...,   293,  2176,  2293],\n",
       "       [  494,   174,    49, ...,  5247, 15038, 15039],\n",
       "       ...,\n",
       "       [ 6786,  1349,   981, ...,  1842,     4,  3178],\n",
       "       [ 7565,  5731, 12148, ..., 14931,  6554,   146],\n",
       "       [    0,     0,     0, ...,  1337,    62,   318]])"
      ]
     },
     "execution_count": 40,
     "metadata": {},
     "output_type": "execute_result"
    }
   ],
   "source": [
    "X_train_pad"
   ]
  },
  {
   "cell_type": "code",
   "execution_count": 31,
   "metadata": {},
   "outputs": [],
   "source": [
    "# Using pre-trained GloVe embeddings to create an embedding matrix\n",
    "embeddings_index = {}\n",
    "with open('T:\\MS in AI courses\\Machine Learning\\glove.6B.100d.txt', encoding='utf-8') as f:\n",
    "    for line in f:\n",
    "        values = line.split()\n",
    "        word = values[0]\n",
    "        coefs = np.asarray(values[1:], dtype='float32')\n",
    "        embeddings_index[word] = coefs"
   ]
  },
  {
   "cell_type": "code",
   "execution_count": 32,
   "metadata": {},
   "outputs": [],
   "source": [
    "embedding_matrix = np.zeros((len(tokenizer.word_index) + 1, 100))\n",
    "for word, i in tokenizer.word_index.items():\n",
    "    embedding_vector = embeddings_index.get(word)\n",
    "    if embedding_vector is not None:\n",
    "        embedding_matrix[i] = embedding_vector"
   ]
  },
  {
   "cell_type": "code",
   "execution_count": 61,
   "metadata": {},
   "outputs": [],
   "source": [
    "# model = Sequential()\n",
    "vocab_size = len(tokenizer.word_index) + 1\n",
    "# embedding_dim = 100\n",
    "# model.add(Embedding(vocab_size, embedding_dim, weights=[embedding_matrix], input_length=100, trainable=False))\n",
    "# model.add(Flatten())\n",
    "# model.add(Dense(64, activation='relu'))\n",
    "# model.add(Dense(1, activation='sigmoid'))  # Binary classification\n",
    "url_input = Input(shape=(X_url_features.shape[1],))\n",
    "\n",
    "# Define the input for text features\n",
    "embedding_dim = 100\n",
    "text_input = Input(shape=(100,))\n",
    "embedding_layer = Embedding(vocab_size, embedding_dim, weights=[embedding_matrix], input_length=100, trainable=False)\n",
    "embedded_text = embedding_layer(text_input)\n",
    "flattened_text = Flatten()(embedded_text)\n",
    "\n",
    "# flatten_layer = Flatten()(embedding_layer)\n",
    "concatenated_features = Concatenate()([flattened_text, url_input])\n",
    "\n",
    "# Defining the model architecture\n",
    "dense_layer = Dense(64, activation='relu')(concatenated_features)\n",
    "output_layer = Dense(1, activation='sigmoid')(dense_layer)\n",
    "\n",
    "# Creating the model\n",
    "model = Model(inputs=[text_input, url_input], outputs=output_layer)"
   ]
  },
  {
   "cell_type": "code",
   "execution_count": 47,
   "metadata": {},
   "outputs": [],
   "source": [
    "# model = Sequential([\n",
    "#     Dense(64, activation='relu', input_shape=(X_train.shape[1],)),\n",
    "#     Dropout(0.2),\n",
    "#     Dense(64, activation='relu'),\n",
    "#     Dropout(0.2),\n",
    "#     Dense(1, activation='sigmoid')\n",
    "# ])"
   ]
  },
  {
   "cell_type": "code",
   "execution_count": 62,
   "metadata": {},
   "outputs": [],
   "source": [
    "model.compile(optimizer='adam', loss='binary_crossentropy', metrics=['accuracy'])"
   ]
  },
  {
   "cell_type": "code",
   "execution_count": 63,
   "metadata": {},
   "outputs": [
    {
     "name": "stdout",
     "output_type": "stream",
     "text": [
      "(810, 100) int32 (810, 1008) (810,) int32 (203, 100) int32 (203, 1008) (203,) int32\n",
      "810\n"
     ]
    }
   ],
   "source": [
    "X_url_train_values_int32 = X_url_train.values.astype('int32')\n",
    "X_url_test_values_int32 = X_url_test.values.astype('int32')\n",
    "y_train = y_train.astype('int32')\n",
    "y_test = y_test.astype('int32')\n",
    "print(X_train_pad.shape, X_train_pad.dtype, X_url_train_values_int32.shape, y_train.shape, y_train.dtype, X_test_pad.shape, X_test_pad.dtype, X_url_test_values_int32.shape, y_test.shape, y_test.dtype)\n",
    "print(len(X_train_pad))"
   ]
  },
  {
   "cell_type": "code",
   "execution_count": 64,
   "metadata": {},
   "outputs": [
    {
     "name": "stdout",
     "output_type": "stream",
     "text": [
      "Epoch 1/10\n"
     ]
    },
    {
     "name": "stderr",
     "output_type": "stream",
     "text": [
      "c:\\Users\\toufic.f\\AppData\\Local\\Programs\\Python\\Python39\\lib\\site-packages\\tensorflow\\python\\data\\ops\\structured_function.py:258: UserWarning: Even though the `tf.config.experimental_run_functions_eagerly` option is set, this option does not apply to tf.data functions. To force eager execution of tf.data functions, please use `tf.data.experimental.enable_debug_mode()`.\n",
      "  warnings.warn(\n"
     ]
    },
    {
     "name": "stdout",
     "output_type": "stream",
     "text": [
      "26/26 [==============================] - 2s 75ms/step - loss: 0.2148 - accuracy: 0.8963 - val_loss: 0.2616 - val_accuracy: 0.9310\n",
      "Epoch 2/10\n",
      "26/26 [==============================] - 2s 77ms/step - loss: 0.0271 - accuracy: 0.9951 - val_loss: 0.1992 - val_accuracy: 0.9458\n",
      "Epoch 3/10\n",
      "26/26 [==============================] - 2s 73ms/step - loss: 0.0063 - accuracy: 0.9988 - val_loss: 0.2110 - val_accuracy: 0.9409\n",
      "Epoch 4/10\n",
      "26/26 [==============================] - 2s 75ms/step - loss: 0.0021 - accuracy: 1.0000 - val_loss: 0.2213 - val_accuracy: 0.9360\n",
      "Epoch 5/10\n",
      "26/26 [==============================] - 2s 76ms/step - loss: 0.0014 - accuracy: 1.0000 - val_loss: 0.2234 - val_accuracy: 0.9360\n",
      "Epoch 6/10\n",
      "26/26 [==============================] - 2s 79ms/step - loss: 0.0011 - accuracy: 1.0000 - val_loss: 0.2238 - val_accuracy: 0.9409\n",
      "Epoch 7/10\n",
      "26/26 [==============================] - 2s 78ms/step - loss: 8.2304e-04 - accuracy: 1.0000 - val_loss: 0.2258 - val_accuracy: 0.9409\n",
      "Epoch 8/10\n",
      "26/26 [==============================] - 2s 82ms/step - loss: 6.6925e-04 - accuracy: 1.0000 - val_loss: 0.2263 - val_accuracy: 0.9409\n",
      "Epoch 9/10\n",
      "26/26 [==============================] - 2s 89ms/step - loss: 5.6539e-04 - accuracy: 1.0000 - val_loss: 0.2281 - val_accuracy: 0.9409\n",
      "Epoch 10/10\n",
      "26/26 [==============================] - 2s 77ms/step - loss: 4.7719e-04 - accuracy: 1.0000 - val_loss: 0.2284 - val_accuracy: 0.9409\n"
     ]
    },
    {
     "data": {
      "text/plain": [
       "<keras.src.callbacks.History at 0x2798f67f070>"
      ]
     },
     "execution_count": 64,
     "metadata": {},
     "output_type": "execute_result"
    }
   ],
   "source": [
    "# tf.config.run_functions_eagerly(True)\n",
    "model.fit([X_train_pad, X_url_train_values_int32], y_train, epochs=10, batch_size=32, validation_data=([X_test_pad, X_url_test_values_int32], y_test))"
   ]
  }
 ],
 "metadata": {
  "kernelspec": {
   "display_name": "Python 3",
   "language": "python",
   "name": "python3"
  },
  "language_info": {
   "codemirror_mode": {
    "name": "ipython",
    "version": 3
   },
   "file_extension": ".py",
   "mimetype": "text/x-python",
   "name": "python",
   "nbconvert_exporter": "python",
   "pygments_lexer": "ipython3",
   "version": "3.9.1"
  }
 },
 "nbformat": 4,
 "nbformat_minor": 2
}
