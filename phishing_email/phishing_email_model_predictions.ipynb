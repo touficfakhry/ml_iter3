{
 "cells": [
  {
   "cell_type": "code",
   "execution_count": 11,
   "metadata": {},
   "outputs": [],
   "source": [
    "import pandas as pd\n",
    "import joblib\n",
    "import matplotlib.pyplot as plt"
   ]
  },
  {
   "cell_type": "code",
   "execution_count": 12,
   "metadata": {},
   "outputs": [],
   "source": [
    "# Load the saved model\n",
    "with open('../modells/best_email_phishing_model.pkl', 'rb') as f:\n",
    "    model = joblib.load(f)\n",
    "\n",
    "# Load the new dataset\n",
    "new_data = pd.read_csv('../datasets/emails_model_testing_ling_ds.csv')"
   ]
  },
  {
   "cell_type": "code",
   "execution_count": 13,
   "metadata": {},
   "outputs": [
    {
     "data": {
      "text/plain": [
       "0    content - length : 3386 apple-iss research cen...\n",
       "1    lang classification grimes , joseph e . and ba...\n",
       "2    i am posting this inquiry for sergei atamas ( ...\n",
       "3    a colleague and i are researching the differin...\n",
       "4    earlier this morning i was on the phone with a...\n",
       "Name: body, dtype: object"
      ]
     },
     "execution_count": 13,
     "metadata": {},
     "output_type": "execute_result"
    }
   ],
   "source": [
    "X_new = new_data['body']\n",
    "X_new.head()"
   ]
  },
  {
   "cell_type": "code",
   "execution_count": 14,
   "metadata": {},
   "outputs": [],
   "source": [
    "# using the model to predict this new data\n",
    "predictions = model.predict(X_new)\n",
    "\n",
    "new_data['predicted_class'] = predictions"
   ]
  },
  {
   "cell_type": "code",
   "execution_count": 15,
   "metadata": {},
   "outputs": [
    {
     "data": {
      "text/html": [
       "<div>\n",
       "<style scoped>\n",
       "    .dataframe tbody tr th:only-of-type {\n",
       "        vertical-align: middle;\n",
       "    }\n",
       "\n",
       "    .dataframe tbody tr th {\n",
       "        vertical-align: top;\n",
       "    }\n",
       "\n",
       "    .dataframe thead th {\n",
       "        text-align: right;\n",
       "    }\n",
       "</style>\n",
       "<table border=\"1\" class=\"dataframe\">\n",
       "  <thead>\n",
       "    <tr style=\"text-align: right;\">\n",
       "      <th></th>\n",
       "      <th>subject</th>\n",
       "      <th>body</th>\n",
       "      <th>label</th>\n",
       "      <th>predicted_class</th>\n",
       "    </tr>\n",
       "  </thead>\n",
       "  <tbody>\n",
       "    <tr>\n",
       "      <th>0</th>\n",
       "      <td>job posting - apple-iss research center</td>\n",
       "      <td>content - length : 3386 apple-iss research cen...</td>\n",
       "      <td>0</td>\n",
       "      <td>Safe Email</td>\n",
       "    </tr>\n",
       "    <tr>\n",
       "      <th>1</th>\n",
       "      <td>NaN</td>\n",
       "      <td>lang classification grimes , joseph e . and ba...</td>\n",
       "      <td>0</td>\n",
       "      <td>Safe Email</td>\n",
       "    </tr>\n",
       "    <tr>\n",
       "      <th>2</th>\n",
       "      <td>query : letter frequencies for text identifica...</td>\n",
       "      <td>i am posting this inquiry for sergei atamas ( ...</td>\n",
       "      <td>0</td>\n",
       "      <td>Safe Email</td>\n",
       "    </tr>\n",
       "    <tr>\n",
       "      <th>3</th>\n",
       "      <td>risk</td>\n",
       "      <td>a colleague and i are researching the differin...</td>\n",
       "      <td>0</td>\n",
       "      <td>Safe Email</td>\n",
       "    </tr>\n",
       "    <tr>\n",
       "      <th>4</th>\n",
       "      <td>request book information</td>\n",
       "      <td>earlier this morning i was on the phone with a...</td>\n",
       "      <td>0</td>\n",
       "      <td>Safe Email</td>\n",
       "    </tr>\n",
       "  </tbody>\n",
       "</table>\n",
       "</div>"
      ],
      "text/plain": [
       "                                             subject  \\\n",
       "0            job posting - apple-iss research center   \n",
       "1                                                NaN   \n",
       "2  query : letter frequencies for text identifica...   \n",
       "3                                               risk   \n",
       "4                           request book information   \n",
       "\n",
       "                                                body  label predicted_class  \n",
       "0  content - length : 3386 apple-iss research cen...      0      Safe Email  \n",
       "1  lang classification grimes , joseph e . and ba...      0      Safe Email  \n",
       "2  i am posting this inquiry for sergei atamas ( ...      0      Safe Email  \n",
       "3  a colleague and i are researching the differin...      0      Safe Email  \n",
       "4  earlier this morning i was on the phone with a...      0      Safe Email  "
      ]
     },
     "execution_count": 15,
     "metadata": {},
     "output_type": "execute_result"
    }
   ],
   "source": [
    "new_data.head()"
   ]
  },
  {
   "cell_type": "code",
   "execution_count": 19,
   "metadata": {},
   "outputs": [
    {
     "data": {
      "text/plain": [
       "['Safe Email', 'Phishing Email']\n",
       "Categories (2, object): ['Phishing Email', 'Safe Email']"
      ]
     },
     "execution_count": 19,
     "metadata": {},
     "output_type": "execute_result"
    }
   ],
   "source": [
    "# If they are not categorical, you can convert them to categorical for plotting purposes\n",
    "new_data['label'] = new_data['label'].astype('category')\n",
    "new_data['predicted_class'] = new_data['predicted_class'].astype('category')\n",
    "\n",
    "new_data[\"predicted_class\"].unique()"
   ]
  },
  {
   "cell_type": "code",
   "execution_count": 20,
   "metadata": {},
   "outputs": [
    {
     "name": "stdout",
     "output_type": "stream",
     "text": [
      "  predicted_class predicted_class_encoded\n",
      "0      Safe Email                       0\n",
      "1      Safe Email                       0\n",
      "2      Safe Email                       0\n",
      "3      Safe Email                       0\n",
      "4      Safe Email                       0\n"
     ]
    }
   ],
   "source": [
    "new_data['predicted_class_encoded'] = new_data['predicted_class'].replace({'Phishing Email': 1, 'Safe Email': 0})\n",
    "\n",
    "# Verify the encoding\n",
    "print(new_data[['predicted_class', 'predicted_class_encoded']].head())"
   ]
  },
  {
   "cell_type": "code",
   "execution_count": 22,
   "metadata": {},
   "outputs": [
    {
     "data": {
      "image/png": "[encoded data removed]",
      "text/plain": [
       "<Figure size 640x480 with 1 Axes>"
      ]
     },
     "metadata": {},
     "output_type": "display_data"
    }
   ],
   "source": [
    "new_data[\"correct_prediction\"] = new_data['label'] == new_data['predicted_class_encoded']\n",
    "\n",
    "comparison = new_data[\"correct_prediction\"].value_counts()\n",
    "\n",
    "# Plot the comparison\n",
    "comparison.plot(kind='bar', stacked=True)\n",
    "plt.xticks([0, 1], ['Correct', 'Incorrect'], rotation=0)\n",
    "plt.xlabel('Prediction Accuracy')\n",
    "plt.ylabel('Count')\n",
    "plt.title('Correct vs Incorrect Predictions')\n",
    "plt.show()"
   ]
  },
  {
   "cell_type": "code",
   "execution_count": 23,
   "metadata": {},
   "outputs": [],
   "source": [
    "# Saving the results\n",
    "new_data.to_csv('new_email_dataset_with_predictions.csv', index=False)"
   ]
  }
 ],
 "metadata": {
  "kernelspec": {
   "display_name": "Python 3",
   "language": "python",
   "name": "python3"
  },
  "language_info": {
   "codemirror_mode": {
    "name": "ipython",
    "version": 3
   },
   "file_extension": ".py",
   "mimetype": "text/x-python",
   "name": "python",
   "nbconvert_exporter": "python",
   "pygments_lexer": "ipython3",
   "version": "3.9.1"
  }
 },
 "nbformat": 4,
 "nbformat_minor": 2
}
